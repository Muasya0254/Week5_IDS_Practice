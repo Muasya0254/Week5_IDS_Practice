{
 "cells": [
  {
   "cell_type": "code",
   "execution_count": 19,
   "metadata": {},
   "outputs": [],
   "source": [
    "import pandas as pd\n",
    "import matplotlib.pyplot as plt\n",
    "from sklearn.preprocessing import StandardScaler\n",
    "from sklearn.preprocessing import LabelEncoder"
   ]
  },
  {
   "cell_type": "code",
   "execution_count": 20,
   "metadata": {},
   "outputs": [
    {
     "name": "stdout",
     "output_type": "stream",
     "text": [
      "   Car ID      Brand  Mileage  Horsepower Fuel Type  Price ($)\n",
      "0       1     Toyota    25000         150  Gasoline      20000\n",
      "1       2       Ford    35000         200    Diesel      25000\n",
      "2       3      Honda    15000         120  Gasoline      18000\n",
      "3       4  Chevrolet    45000         180    Diesel      22000\n",
      "4       5     Nissan    30000         160  Gasoline      23000\n",
      "5       6     Toyota    20000         140    Hybrid      26000\n",
      "6       7       Ford    40000         210    Diesel      24000\n",
      "7       8      Honda    28000         130  Gasoline      21000\n",
      "8       9     Nissan    32000         170    Hybrid      27000\n",
      "9      10  Chevrolet    38000         190  Gasoline      23000\n"
     ]
    }
   ],
   "source": [
    "data = {\n",
    "    'Car ID':     [1, 2, 3, 4, 5, 6, 7, 8, 9, 10],\n",
    "    'Brand':      ['Toyota', 'Ford', 'Honda', 'Chevrolet', 'Nissan', 'Toyota', 'Ford', 'Honda', 'Nissan', 'Chevrolet'],\n",
    "    'Mileage':    [25000, 35000, 15000, 45000, 30000, 20000, 40000, 28000, 32000, 38000],\n",
    "    'Horsepower': [150, 200, 120, 180, 160, 140, 210, 130, 170, 190],\n",
    "    'Fuel Type':  ['Gasoline', 'Diesel', 'Gasoline', 'Diesel', 'Gasoline', 'Hybrid', 'Diesel', 'Gasoline', 'Hybrid', 'Gasoline'],\n",
    "    'Price ($)':  [20000, 25000, 18000, 22000, 23000, 26000, 24000, 21000, 27000, 23000]\n",
    "}\n",
    "\n",
    "car_specs = pd.DataFrame(data)\n",
    "print(car_specs)"
   ]
  },
  {
   "cell_type": "code",
   "execution_count": 21,
   "metadata": {},
   "outputs": [
    {
     "data": {
      "image/png": "[encoded data removed]",
      "text/plain": [
       "<Figure size 800x600 with 1 Axes>"
      ]
     },
     "metadata": {},
     "output_type": "display_data"
    }
   ],
   "source": [
    "# Plotting an histogram\n",
    "plt.figure(figsize=(8, 6))\n",
    "car_specs['Brand'].value_counts().plot(kind='bar', color='skyblue')\n",
    "plt.title('Number of Cars by Brand')\n",
    "plt.xlabel('Brand')\n",
    "plt.ylabel('Number of Cars')\n",
    "plt.show()"
   ]
  },
  {
   "cell_type": "code",
   "execution_count": 22,
   "metadata": {},
   "outputs": [
    {
     "name": "stdout",
     "output_type": "stream",
     "text": [
      "    Mileage  Horsepower\n",
      "0  1.142876    1.044466\n",
      "1  2.285752    2.785242\n",
      "2  0.000000    0.000000\n",
      "3  3.428627    2.088932\n",
      "4  1.714314    1.392621\n",
      "5  0.571438    0.696311\n",
      "6  2.857190    3.133398\n",
      "7  1.485739    0.348155\n",
      "8  1.942889    1.740777\n",
      "9  2.628614    2.437087\n",
      "\n",
      " Sum of sclaed Mileage\n",
      " 18.057437674858527\n",
      "\n",
      " Sum of sclaed Horsepower\n",
      " 15.666989036012806\n"
     ]
    }
   ],
   "source": [
    "# Extract 'Mileage' and 'Horsepower' columns for scaling\n",
    "features_to_scale = ['Mileage', 'Horsepower']\n",
    "features_scaled = car_specs[features_to_scale]\n",
    "\n",
    "# Standardize the features\n",
    "scaler = StandardScaler()\n",
    "features_standardized = scaler.fit_transform(features_scaled)\n",
    "\n",
    "# Create a new DataFrame with the scaled features\n",
    "scaled_df = pd.DataFrame(features_standardized, columns=features_to_scale)\n",
    "\n",
    "scaled_df = scaled_df + abs(scaled_df.min())\n",
    "\n",
    "#  sum of all the scaled values\n",
    "sum_of_mileage = scaled_df['Mileage'].sum()\n",
    "\n",
    "sum_of_horsepower = scaled_df['Horsepower'].sum()\n",
    "\n",
    "# Display\n",
    "print(scaled_df)\n",
    "\n",
    "print(\"\\n Sum of sclaed Mileage\\n\", sum_of_mileage)\n",
    "print(\"\\n Sum of sclaed Horsepower\\n\", sum_of_horsepower)\n"
   ]
  },
  {
   "cell_type": "code",
   "execution_count": 23,
   "metadata": {},
   "outputs": [
    {
     "name": "stdout",
     "output_type": "stream",
     "text": [
      "   Horsepower Horsepower_Category\n",
      "0         150                 Low\n",
      "1         200                High\n",
      "2         120                 Low\n",
      "3         180              Medium\n",
      "4         160              Medium\n",
      "5         140                 Low\n",
      "6         210                High\n",
      "7         130                 Low\n",
      "8         170              Medium\n",
      "9         190                High\n"
     ]
    }
   ],
   "source": [
    "# Define bins and labels\n",
    "bins = [min(car_specs['Horsepower']), 150, 180, max(car_specs['Horsepower'])]\n",
    "labels = ['Low', 'Medium', 'High']\n",
    "\n",
    "# Bin the 'Horsepower' feature\n",
    "car_specs['Horsepower_Category'] = pd.cut(car_specs['Horsepower'], bins=bins, labels=labels, include_lowest=True)\n",
    "\n",
    "# Display\n",
    "print(car_specs[['Horsepower', 'Horsepower_Category']])"
   ]
  },
  {
   "cell_type": "code",
   "execution_count": 24,
   "metadata": {},
   "outputs": [
    {
     "name": "stdout",
     "output_type": "stream",
     "text": [
      "       Brand  Brand_Label\n",
      "0     Toyota            4\n",
      "1       Ford            1\n",
      "2      Honda            2\n",
      "3  Chevrolet            0\n",
      "4     Nissan            3\n",
      "5     Toyota            4\n",
      "6       Ford            1\n",
      "7      Honda            2\n",
      "8     Nissan            3\n",
      "9  Chevrolet            0\n"
     ]
    }
   ],
   "source": [
    "# Use LabelEncoder to encode the 'Brand' feature\n",
    "label_encoder = LabelEncoder()\n",
    "car_specs['Brand_Label'] = label_encoder.fit_transform(car_specs['Brand'])\n",
    "\n",
    "# Display \n",
    "print(car_specs[['Brand', 'Brand_Label']])"
   ]
  },
  {
   "cell_type": "code",
   "execution_count": 25,
   "metadata": {},
   "outputs": [
    {
     "name": "stdout",
     "output_type": "stream",
     "text": [
      "   Car ID      Brand  Mileage  Horsepower Fuel Type  Price ($)  \\\n",
      "0       1     Toyota    25000         150  Gasoline      20000   \n",
      "1       2       Ford    35000         200    Diesel      25000   \n",
      "2       3      Honda    15000         120  Gasoline      18000   \n",
      "3       4  Chevrolet    45000         180    Diesel      22000   \n",
      "4       5     Nissan    30000         160  Gasoline      23000   \n",
      "5       6     Toyota    20000         140    Hybrid      26000   \n",
      "6       7       Ford    40000         210    Diesel      24000   \n",
      "7       8      Honda    28000         130  Gasoline      21000   \n",
      "8       9     Nissan    32000         170    Hybrid      27000   \n",
      "9      10  Chevrolet    38000         190  Gasoline      23000   \n",
      "\n",
      "  Horsepower_Category  Brand_Label  Fuel_Type_Diesel  Fuel_Type_Gasoline  \\\n",
      "0                 Low            4             False                True   \n",
      "1                High            1              True               False   \n",
      "2                 Low            2             False                True   \n",
      "3              Medium            0              True               False   \n",
      "4              Medium            3             False                True   \n",
      "5                 Low            4             False               False   \n",
      "6                High            1              True               False   \n",
      "7                 Low            2             False                True   \n",
      "8              Medium            3             False               False   \n",
      "9                High            0             False                True   \n",
      "\n",
      "   Fuel_Type_Hybrid  \n",
      "0             False  \n",
      "1             False  \n",
      "2             False  \n",
      "3             False  \n",
      "4             False  \n",
      "5              True  \n",
      "6             False  \n",
      "7             False  \n",
      "8              True  \n",
      "9             False  \n"
     ]
    }
   ],
   "source": [
    "# Perform one-hot encoding on the 'Fuel Type' feature\n",
    "fuel_type_encoded = pd.get_dummies(car_specs['Fuel Type'], prefix='Fuel_Type')\n",
    "\n",
    "# Concatenate the one-hot encoded columns with the original DataFrame\n",
    "car_specs = pd.concat([car_specs, fuel_type_encoded], axis=1)\n",
    "\n",
    "# Display\n",
    "print(car_specs)"
   ]
  }
 ],
 "metadata": {
  "kernelspec": {
   "display_name": "Python 3",
   "language": "python",
   "name": "python3"
  },
  "language_info": {
   "codemirror_mode": {
    "name": "ipython",
    "version": 3
   },
   "file_extension": ".py",
   "mimetype": "text/x-python",
   "name": "python",
   "nbconvert_exporter": "python",
   "pygments_lexer": "ipython3",
   "version": "3.11.5"
  }
 },
 "nbformat": 4,
 "nbformat_minor": 2
}
